{
 "cells": [
  {
   "cell_type": "markdown",
   "metadata": {},
   "source": [
    "# Quantify the Kullback Leibler divergence between paleomagnetic poles\n",
    "## by D. Heslop (david.heslop@anu.edu.au) & A. P. Roberts\n",
    "### Jupyter Notebook version 1.1 (September 2019)\n",
    "\n",
    "Calculate the Kullback Leibler divergence of a paleomagnetic pole to a reference pole using the framework presented by:\n",
    "\n",
    "**Heslop, D. & A. P. Roberts (2019). Quantifying the similarity of palaeomagnetic poles, *Journal of Geophysical Research* (*submitted*).** \n",
    "\n",
    "A tutorial video demonstrating this notebook is <a href=\"https://youtu.be/62rjf_t6jEg\" target=\"_blank\">here</a>.\n",
    "<hr style=\"height:3px;border:none;color:#333;background-color:#333;\" />\n",
    "\n",
    "### Getting started\n",
    "Select the code cell below and press ```shift``` + ```enter```, to launch an interface and define the parameters of the two poles to be compared.\n",
    "\n",
    "### Pole parameters\n",
    "Compare pole $q$ to the reference pole $p$. Poles are defined by 4 parameters:\n",
    "1. PLat - the pole latitude in degrees [value between -90$^\\circ$ and +90$^\\circ$ ].\n",
    "2. PLon - the pole longitude in degrees [value between 0$^\\circ$ and 360$^\\circ$ ].\n",
    "3. $\\kappa$ - the Fisher distribution dispersion of the pole [value $>$0].\n",
    "4. $R$ - the resultant length of the mean vector from which the pole was estimated [value $\\geq$1].\n",
    "\n",
    "### Results\n",
    "The estimated Kullback Leibler divergence is updated automatically as values in the interface are modified. After you modify a given parameter, make sure you press ```Enter``` so that the results will be updated.\n",
    "<hr style=\"height:3px;border:none;color:#333;background-color:#333;\" />"
   ]
  },
  {
   "cell_type": "code",
   "execution_count": 2,
   "metadata": {},
   "outputs": [
    {
     "data": {
      "application/vnd.jupyter.widget-view+json": {
       "model_id": "0dd6a25df0c54207bb9fe7839e5557c2",
       "version_major": 2,
       "version_minor": 0
      },
      "text/plain": [
       "VBox(children=(HBox(children=(VBox(children=(HTML(value='<h4>Reference Pole p</h4>'), BoundedFloatText(value=0…"
      ]
     },
     "metadata": {},
     "output_type": "display_data"
    },
    {
     "data": {
      "application/vnd.jupyter.widget-view+json": {
       "model_id": "496e99c41ae84ce893c698696c0a2577",
       "version_major": 2,
       "version_minor": 0
      },
      "text/plain": [
       "Output()"
      ]
     },
     "metadata": {},
     "output_type": "display_data"
    }
   ],
   "source": [
    "import kld\n",
    "kld.open_console()"
   ]
  },
  {
   "cell_type": "code",
   "execution_count": null,
   "metadata": {},
   "outputs": [],
   "source": []
  }
 ],
 "metadata": {
  "kernelspec": {
   "display_name": "Python 3",
   "language": "python",
   "name": "python3"
  },
  "language_info": {
   "codemirror_mode": {
    "name": "ipython",
    "version": 3
   },
   "file_extension": ".py",
   "mimetype": "text/x-python",
   "name": "python",
   "nbconvert_exporter": "python",
   "pygments_lexer": "ipython3",
   "version": "3.6.6"
  }
 },
 "nbformat": 4,
 "nbformat_minor": 2
}
